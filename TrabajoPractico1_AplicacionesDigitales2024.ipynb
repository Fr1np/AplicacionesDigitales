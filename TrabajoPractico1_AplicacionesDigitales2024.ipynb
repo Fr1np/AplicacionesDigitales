{
  "cells": [
    {
      "cell_type": "markdown",
      "metadata": {
        "id": "ki_rN0M53yjz"
      },
      "source": [
        "# **Python: Repaso de conocimientos**\n",
        "\n",
        "## Variables en Python\n",
        "En Python, existen unas variables llamadas primitivas, simples o primarias. Conocer los tipos de datos nos ayuda a identificar las variables y para que sirven, de ahí la importancia de conocer para cada variable su tipo de dato python. estos tipos primarios o primitivos, son la base a partir de la cual se construyen todas las demás complejas.\n",
        "\n",
        "Es importante identificar el tipo de\n",
        " dato que se debe recoger en nuestra variable para diseñar un programa que resuelve bien nuestro problema;\n",
        "\n",
        "Tipo de dato Int o Entero en Python\n",
        "El tipo de dato más simple es int. Es un dato numérico que representa los números enteros (sin coma). El ejemplo lo es la imagen de arriba, veamos algún ejemplo más:\n",
        "\n",
        "altura = 190\n",
        "\n",
        "edad = 30\n",
        "\n",
        "Float o decimales en programación\n",
        "Este tipo de dato hace referencia a valores con decimales (o con coma). En Python se coloca un punto para identificar la parte entera y la decimal.\n",
        "\n",
        "Para construir valores con decimales, se utiliza el punto (.). Un error muy común es utilizar la coma; Python fallará si quieres dar valores con comas:\n",
        "\n",
        "altura = 1.90 # Ejemplo de altura en metros\n",
        "\n",
        "salario = 1549,50 # Esto está mal, se usa el punto\n",
        "\n",
        "salario = 1549.50 # Ahora sí :)\n",
        "\n",
        "Bool o booleanos en Python\n",
        "Son los tipos de datos más peculiares para las personas que se inician en la programación. Simplemente, por ahora debes conocer que puedes crear variables dentro del programa con valores de 'True' o 'False'.\n",
        "\n",
        "esteAnyoEsBisiesto = False\n",
        "\n",
        "esMiTurnoEnPokemon = False\n",
        "\n",
        "Str o string (cadena en inglés)\n",
        "Siendo estrictos, no son tipo de datos simples, sino complejos. Sin embargo, debido a su uso a la hora de empezar a practicar los colocamos aquí.\n",
        "\n",
        "Los textos en programación son cadenas de caracteres. Así, si creamos una variable llamada ‘Python’ o «Python» estamos creando un tren con los siguientes vagones: P + y + t + h + o + n\n",
        "\n",
        "Con estos ingredientes identificados y dominados, podremos empezar a hacer ejercicios identificando las variables de buena manera.\n",
        "\n",
        "\n",
        "Como ves, el tipo de dato que devuelve la última demuestra que podemos intentar convertir entre los diferentes tipos de datos.\n",
        "\n",
        "Vamos con los ejercicios de las Variables en Python para practicar. Recuerda que estos ejercicios pertenecen a nuestra estupenda guía de Ejercicios de Programación en Python. ¡Practiquemos!\n"
      ]
    },
    {
      "cell_type": "markdown",
      "metadata": {
        "id": "HTEY5RhvUPlY"
      },
      "source": [
        "## **Ejercicios de Variables Python**\n",
        "\n",
        "\n"
      ]
    },
    {
      "cell_type": "markdown",
      "metadata": {
        "id": "ZO02NtkGUYE6"
      },
      "source": [
        "### Ejercicio 1\n",
        "Escribir ‘Hola Mundo!‘ por pantalla.\n"
      ]
    },
    {
      "cell_type": "code",
      "execution_count": null,
      "metadata": {
        "id": "yMGY2SKzUyZS"
      },
      "outputs": [],
      "source": [
        "print(\"Hola Mundo\")"
      ]
    },
    {
      "cell_type": "markdown",
      "metadata": {
        "id": "iWOW2ndHUuDT"
      },
      "source": [
        "### Ejercicio 2\n",
        "Crea una variable numérica tipo int. Después, multiplica por dos y divídelo entre 1.5. Debes hacerlo en dos pasos.\n",
        "\n",
        "Revisa el tipo de dato después de las operaciones para finalizar. Utiliza la función type( variable ) dentro del print( )\n"
      ]
    },
    {
      "cell_type": "code",
      "execution_count": null,
      "metadata": {
        "id": "y91FpRpcUxvY"
      },
      "outputs": [],
      "source": [
        "num = 4\n",
        "num *= 2 / 1.5\n",
        "\n",
        "print(type(num))"
      ]
    },
    {
      "cell_type": "markdown",
      "metadata": {
        "id": "Amp4mYc6U_rh"
      },
      "source": [
        "### Ejercicio 3\n",
        "Calcular los intereses que tendrás si inviertes 100.000€ (capitalInicial) a un 2% (interes) de interés en 10 años (ciclos) debido a la fórmula del interés compuesto.\n",
        "\n",
        "Pista: Tienes un montón de información al respecto en Internet. Localiza la fórmula del interés compuesto.\n",
        "\n",
        "Paso 2: Intenta hacer que pida todos los datos al usuario. Utiliza la función input()."
      ]
    },
    {
      "cell_type": "code",
      "execution_count": null,
      "metadata": {
        "id": "eTFifdjIVOSM"
      },
      "outputs": [],
      "source": [
        "# Paso 1\n",
        "inver1 = 100000\n",
        "interesCom = inver1*((1+2)**10 - 1)\n",
        "print(interesCom)\n",
        "\n",
        "#Paso 2\n",
        "invers = int(input('Inversion: '))\n",
        "interes = int(input('Interes: '))\n",
        "ciclos = int(input('Ciclos: '))\n",
        "interesCom2 = invers*((1+interes)**ciclos - 1)\n",
        "print(interesCom2)"
      ]
    },
    {
      "cell_type": "markdown",
      "metadata": {
        "id": "en6RaZRaVThH"
      },
      "source": [
        "### Ejercicio 4\n",
        "Desarrollar un programa que calcula el voltaje que cae en una resistencia cuando los valores de la intensidad y la resistencia son conocidos.\n",
        "\n",
        "La Ley de Ohm nos indica que voltaje = intensidad * resistencia\n",
        "\n",
        "Ejemplo: Para un valor de la intensidad igual a 3 amperios y un valor de la resistencia de 4 ohmios el valor del voltaje es de 12 voltios.\n",
        "\n",
        "Nota: Son datos y valores ficticios para practicar. Puede haber erratas de contexto."
      ]
    },
    {
      "cell_type": "code",
      "execution_count": null,
      "metadata": {
        "id": "KJ4AnHrRVugG"
      },
      "outputs": [],
      "source": [
        "inten = 3\n",
        "resis = 4\n",
        "vol = inten * resis\n",
        "print(vol)"
      ]
    },
    {
      "cell_type": "markdown",
      "metadata": {
        "id": "QJvZLACRVtnp"
      },
      "source": [
        "### Ejercicio 5\n",
        "Esta vez, te pedimos calcular el factorial de un número.\n",
        "\n",
        "Ejemplo:\n",
        "\n",
        "5! = 5 x 4 x 3 x 2 x 1 y el resultado es 120.\n",
        "\n",
        "2! = 2 x 1 esta vez, el resultado es 2.\n",
        "\n",
        "10! = 10 x 9 x 8 x 7 x 6 x 5 x 4 x 3 x 2 x 1 resultado: 3628800."
      ]
    },
    {
      "cell_type": "code",
      "execution_count": null,
      "metadata": {
        "id": "u5F3Rg97V7mG"
      },
      "outputs": [],
      "source": [
        "def factorial(num):\n",
        "    if num==0:\n",
        "        return 1\n",
        "    return num * factorial(num-1)\n",
        "\n",
        "num = int(input(\"\"))\n",
        "print(factorial(num))"
      ]
    },
    {
      "cell_type": "markdown",
      "metadata": {
        "id": "wR7RnipWV82j"
      },
      "source": [
        "### Ejercicio 6\n",
        "Para un equipo de Analítica Avanzada de Google nos piden calcular el CTR de nuestra campaña de Márketing para venta de cursos. Nos dan la siguiente información: impresiones, clicks, tiempoPorSession y CPC. Investiga qué son cada elemento y cómo se calcula el CTR.\n",
        "\n",
        "Nota: Son datos y valores ficticios para practicar."
      ]
    },
    {
      "cell_type": "code",
      "execution_count": null,
      "metadata": {
        "id": "ojyMhgAzV8Xl"
      },
      "outputs": [],
      "source": [
        "impresiones = 2000\n",
        "clicks = 30\n",
        "tiempoPorSession = ...\n",
        "CPC = ...\n",
        "CTR = (clicks/impresiones)*100\n",
        "print(str(CTR)+\"%\")"
      ]
    },
    {
      "cell_type": "markdown",
      "metadata": {
        "id": "9dfqY8r5WWdn"
      },
      "source": [
        "## *Condicionales*"
      ]
    },
    {
      "cell_type": "markdown",
      "metadata": {
        "id": "MUXkvfrGWa2N"
      },
      "source": [
        "### Condicionales if elif else en Python\n",
        "En Python al igual que en otros lenguajes de programación podemos dirigir el camino del programa según el criterio de uno a varias condiciones. Ser capaces de dirigir nuestro software es clave, ya que dependiendo de algunas condiciones conseguimos proteger nuestro programa de ciertos fallos.\n",
        "Ejemplos de uso de if en Python\n",
        "Entiende que los programas siempre se ejecutan de arriba hacia abajo, de manera secuencial. Es por eso que hay veces que tenemos que entender que el programa puede ir por algunos caminos diferentes, veamos 3 ejemplos claros:\n",
        "\n",
        "* Decidir si pasa alguien, según si es mayor de edad o no\n",
        "* Pagar un precio u otro a la hora de entrar con el carné de familia numerosa al transporte público\n",
        "* Decidir quien ataca en un combate de turnos (por ejemplo, en Pokemon)\n",
        "\n",
        "Todas estas decisiones, son diseñadas de antemano para que cuando suceda haya sido pensada de antemano; sino, el sistema no funcionará o peor aún, dará un pantallazo azul. En esencia, las condicionales en Python o en cualquier lenguaje de programación buscan identificar los caminos posibles para dejarlos preparados de antemano y saber qué hacer.\n",
        "Para dominar las condiciones en Python es clave manerar los operadores aritméticos, lógicos y de programación; ya que realmente las estructuras condicionales en programación se compone de preguntas que son o ciertas o falsas.\n",
        "Si te hace falta repasar, no olvides que en la materia Programación, dentro del capitulo de \"Algebra de Boole\", analizamos cada uno de los operadores aritmeticos, logicos y booleanos que se utilizan dentro de la programación."
      ]
    },
    {
      "cell_type": "markdown",
      "metadata": {
        "id": "abNCXV2ZXr-g"
      },
      "source": [
        "## Ejercicios de Condicionales"
      ]
    },
    {
      "cell_type": "markdown",
      "metadata": {
        "id": "phbMJeS-Xvgc"
      },
      "source": [
        "### Ejercicio 1\n",
        "Determinar si alguien es menor de edad o no. Pide al usuario la edad por pantalla e imprime por pantalla."
      ]
    },
    {
      "cell_type": "code",
      "execution_count": null,
      "metadata": {
        "id": "bYgK9-OIX5bq"
      },
      "outputs": [],
      "source": [
        "edad = int(input('Edad: '))\n",
        "if edad < 18:\n",
        "    print('Menor de edad')\n",
        "else:\n",
        "    print('Mayor de edad')"
      ]
    },
    {
      "cell_type": "markdown",
      "metadata": {
        "id": "cLiQq3kpXzRo"
      },
      "source": [
        "### Ejercicio 2\n",
        "Haz una calculadora básica que permita realizar el cálculo de la hipotenusa de un triángulo, vigilando que ningún cateto debe ser menor o igual a cero. Si se diera el caso, imprimir «Error» por pantalla."
      ]
    },
    {
      "cell_type": "code",
      "execution_count": null,
      "metadata": {
        "id": "TYdHxNzdX6Eq"
      },
      "outputs": [],
      "source": [
        "import math\n",
        "catet1 = int(input('Cateto 1'))\n",
        "catet2 = int(input('Cateto 2'))\n",
        "if not catet1==0 or catet2==0:\n",
        "    hipotenusa = math.sqrt(catet1**2 + catet2**2)\n",
        "    print(hipotenusa)\n",
        "else:\n",
        "    print('Error')"
      ]
    },
    {
      "cell_type": "markdown",
      "metadata": {
        "id": "XXL2e4iGX1X_"
      },
      "source": [
        "### Ejercicio 3\n",
        "Guarda una contraseña como password. Crea un sistema de seguridad donde el ordenador muestra un mensaje 'Ordenador bloqueado. Contraseña incorrecta.' si el usuario falla la contraseña. En caso contrario, que muestre por pantalla 'Bienvenid@...'."
      ]
    },
    {
      "cell_type": "code",
      "execution_count": null,
      "metadata": {
        "id": "umGjO_RTX6sN"
      },
      "outputs": [],
      "source": [
        "passwd = 123456\n",
        "passwd_Usu = int(input('Contraseña'))\n",
        "if not passwd_Usu == passwd:\n",
        "    print(\"Ordenador bloqueado. Contraseña incorrecta\")\n",
        "else:\n",
        "    print('Bienvenido')"
      ]
    },
    {
      "cell_type": "markdown",
      "metadata": {
        "id": "Gr5pnmN0X16Z"
      },
      "source": [
        "### Ejercicio 4\n",
        "Partiendo de la tarifa anual (que puede cambiar), nos piden que debemos calcular el precio de la tarifa de nuestro polideportivo, sabiendo las siguientes condiciones:\n",
        "\n",
        "Criterio 1: Si es mayor de edad y está trabajando -> Paga el 100%\n",
        "Criterio 2: Si es menor de edad y está trabajando -> Paga el 95%\n",
        "Criterio 3: Si es mayor de edad y no está trabajando -> Paga el 75%\n",
        "Criterio 4: Si es menor de edad y no está trabajando -> Paga el 50%"
      ]
    },
    {
      "cell_type": "code",
      "execution_count": null,
      "metadata": {
        "id": "vXvq7nXRX8tV"
      },
      "outputs": [],
      "source": [
        "tarifa = 100\n",
        "edad = int(input('Edad'))\n",
        "trabajando = input('Trabaja s/n')\n",
        "\n",
        "if edad>=18 and trabajando=='s': print(f'Paga {tarifa}')\n",
        "elif edad>=18 and trabajando=='n': print(f'Paga {tarifa*.75}')\n",
        "elif edad<18 and trabajando=='s': print(f'Paga {tarifa*.95}')\n",
        "else: print(f'Paga {tarifa*.5}')"
      ]
    },
    {
      "cell_type": "markdown",
      "metadata": {
        "id": "2A1NERYfX2Yy"
      },
      "source": [
        "### Ejercicio 5\n",
        "La pizzería Bella Napoli ofrece pizzas vegetarianas y no vegetarianas a sus clientes.\n",
        "Los ingredientes para cada tipo de pizza aparecen a continuación.\n",
        "\n",
        "Ingredientes vegetarianos: Pimiento y tofu.\n",
        "Ingredientes no vegetarianos: Peperoni, Jamón y Salmón.\n",
        "\n",
        "Escribir un programa que pregunte al usuario si quiere una pizza vegetariana o no y en función de su respuesta le muestre un menú con los ingredientes disponibles para que elija.\n",
        "\n",
        "Solo se puede eligir un ingrediente además de la mozzarella y el tomate que están en todas la pizzas.\n",
        "\n",
        "Al final se debe mostrar por pantalla si la pizza elegida es vegetariana o no y todos los ingredientes que lleva."
      ]
    },
    {
      "cell_type": "code",
      "execution_count": null,
      "metadata": {
        "id": "HniMWXhEX93i"
      },
      "outputs": [],
      "source": [
        "ingredientes_vegetarianos = ['Pimiento', 'Tofu']\n",
        "ingredientes_no_vegetarianos = ['Peperoni', 'Jamon', 'Salmon']\n",
        "pedido = input('Vegetariana o no vegetariana')\n",
        "\n",
        "if pedido.lower()=='vegetariana':\n",
        "    print('Ingrediente: ' + ', '.join(ingredientes_vegetarianos))\n",
        "    pedido_ingrediente = input('')\n",
        "else:\n",
        "    print('Ingrediente: ' + ', '.join(ingredientes_no_vegetarianos))\n",
        "    pedido_ingrediente = input('')\n",
        "    pedido = 'no vegetariana'\n",
        "\n",
        "print(f'Pizza {pedido.upper()} con {pedido_ingrediente.upper()}')"
      ]
    },
    {
      "cell_type": "markdown",
      "metadata": {
        "id": "U_bOX5FXX8DU"
      },
      "source": [
        "## **For y While Python: Los bucles en programación**\n",
        "Los bucles son estructuras de control de Python que son muy útiles en situaciones de repetición. Veamos dos ejemplos:\n",
        "\n",
        "Imagina que estás en un combate Pokemon. Realmente, una vez se ha iniciado la batalla habrá un turno del atacante. Puede que seamos nosotros, puede que sea el contricante. Sin embargo, hasta que alguno de los dos muera no terminará el combate. Como ves, es una condición que no sabemos cuando va a darse pero lo tenemos identificado: utilizaremos while en estos casos.\n",
        "Por otra parte, tenemos el for. Se dice que si sabemos el número de veces en los que se repite un proceso se debe utilizar for. (el cálculo de un factorial es desde N = el número que sea hasta 1).\n",
        "Bucles for en Python\n",
        "Los bucles for y los bucles while en Python se utilizan para repetir operaciones, pero tienen algunas diferencias. Por ejemplo, los bucles for pueden iterar sobre una secuencia de elementos, como una lista o tupla, permitiéndote ejecutar una operación sobre cada elemento de la secuencia uno a uno.\n",
        "\n",
        "#### Sintaxis for en Python\n",
        "\n",
        "\n",
        "```python\n",
        "cursos = [\"IA\", \"Big Data\", \"SQL\", \"Python\", \"SEO\"]\n",
        "for x in cursos:\n",
        "  print(x)\n",
        "```\n",
        "En cambio, los bucles while se utilizan para repetir una operación hasta que la condición especificada en su declaración sea falsa. Aunque la mayoría de las estructuras de bucle for y while en Python realizan la misma tarea básica, los bucles for utilizan conjuntos de datos con longitudes predeterminadas que les permiten completarse más rápidamente que un bucle while.\n",
        "\n",
        "Esto hace que los bucles for sean más adecuados para aplicaciones en las que el tamaño del conjunto de datos se conoce antes de comenzar la iteración y en las que cada elemento del conjunto debe leerse en orden.\n",
        "\n",
        "### Bucles While en Python\n",
        "Los bucles while son una herramienta de programación que puede utilizarse para ejecutar código durante un número específico de veces, o hasta que se cumpla una determinada condición. Los bucles While son especialmente útiles si se desconoce el número exacto de instancias en las que debe ejecutarse el bucle, ya que seguirá iterando hasta que se cumplan sus condiciones.\n",
        "\n",
        "Junto a las estructuras de control condicionales el control de bucles, FOR y WHILE, son las dos principales herramientas que tenemos para dirigir el programa.\n",
        "\n",
        "Un ejemplo habitual de su utilidad es la búsqueda de información en grandes conjuntos de datos, ya que el bucle se detendrá automáticamente al encontrar los datos deseados, ahorrando tiempo y recursos en el proceso.\n",
        "\n",
        "#### Sintaxis While en Python\n",
        "\n",
        "\n",
        "```python\n",
        "i = 1\n",
        "print('Insertando Pin…')\n",
        "while i < 3:\n",
        "print('ERROR. Sigue intentando insertar el PIN… Tienes ',3 - i ,'intentos.')\n",
        "i += 1\n",
        "print('Has superado los 3 intentos. Llamando a @policia…')\n",
        "```\n",
        "\n"
      ]
    },
    {
      "cell_type": "markdown",
      "metadata": {
        "id": "SEId0Cq_ZuHK"
      },
      "source": [
        "## **Ejercicios de Bucles For y While**"
      ]
    },
    {
      "cell_type": "markdown",
      "metadata": {
        "id": "lFOgbItsZzdh"
      },
      "source": [
        "Pista: Antes de ponerte a hacer los ejercicios, identifica el problema bien. Si es una condición dada, sera una estructura while. En caso de saber el número de iteraciones será for.\n",
        "\n",
        "Si quieres saber ques es while en python y como se utiliza nada como ponerte en marcha. La mejor manera será que juegues con los ejercicios de for y while en Python; de esa manera, aprenderás sus diferencias de manera experimental."
      ]
    },
    {
      "cell_type": "markdown",
      "metadata": {
        "id": "R0pWVCQGZ5mU"
      },
      "source": [
        "### Ejercicio 1\n",
        "Imprimir los números del 1 al 10.\n"
      ]
    },
    {
      "cell_type": "code",
      "execution_count": null,
      "metadata": {
        "id": "MjLU6o_BYC4c"
      },
      "outputs": [],
      "source": [
        "for i in range(1,11):\n",
        "    print(i)"
      ]
    },
    {
      "cell_type": "markdown",
      "metadata": {
        "id": "ZzINbKtgaJjV"
      },
      "source": [
        "### Ejercicio 2\n",
        "Partiendo de una frase imprimir palabra por palabra y un contador de palabras totales."
      ]
    },
    {
      "cell_type": "code",
      "execution_count": null,
      "metadata": {
        "id": "K7GfzOp8aPdX"
      },
      "outputs": [],
      "source": [
        "frase = 'Frase cualquiera para el ejemplo'\n",
        "x = 0\n",
        "print(frase.split(' '))\n",
        "for i in range(len(frase.split(' '))):\n",
        "    x += 1\n",
        "print(x)"
      ]
    },
    {
      "cell_type": "markdown",
      "metadata": {
        "id": "yCHT-1B5aOci"
      },
      "source": [
        "### Ejercicio 3\n",
        "Tenemos la pantalla del celu bloqueada. Partiendo de un PIN_SECRETO, intentaremos desbloquear la pantalla. Tenemos hasta 3 intentos. Simula el proceso con Python. En caso de acceder, lanza al usuario 'login correcto'. Sino, 'llamando al policía'."
      ]
    },
    {
      "cell_type": "code",
      "execution_count": null,
      "metadata": {
        "id": "EaGeB91tarDr"
      },
      "outputs": [],
      "source": [
        "pin_secreto = 123456\n",
        "pin_usuario = int(input(''))\n",
        "intentos = 1\n",
        "\n",
        "while intentos<=3:\n",
        "    if pin_usuario==pin_secreto: print('Login correcto'); break\n",
        "    else: print(f'Quedan {3 - intentos} intentos'); intentos+=1 ;pin_usuario=int(input(''))\n",
        "    if intentos==4: print('Llamando al policía'); break"
      ]
    },
    {
      "cell_type": "markdown",
      "metadata": {
        "id": "NqcvYs2parho"
      },
      "source": [
        "### Ejercicio 4\n",
        "Calcula la Hipotenusa. Para ello, pide al usuario que te de el valor de los catetos. Por seacaso, comprueba que los catetos son mayores a 0. Hasta que estos datos sean validados no calcular."
      ]
    },
    {
      "cell_type": "code",
      "execution_count": null,
      "metadata": {
        "id": "b5LT7AXLay0F"
      },
      "outputs": [],
      "source": [
        "import math\n",
        "catet1 = int(input('cateto 1'))\n",
        "catet2 = int(input('cateto 2'))\n",
        "\n",
        "if catet1==0 or catet2==0:\n",
        "    while catet1==0 or catet2==0:\n",
        "        print('catetos no pueden ser 0')\n",
        "        catet1 = int(input('cateto 1'))\n",
        "        catet2 = int(input('cateto 2'))\n",
        "        if catet1!=0 or catet2!=0: break\n",
        "\n",
        "hipotenusa = math.sqrt(catet1**2 + catet2**2)\n",
        "print(hipotenusa)"
      ]
    },
    {
      "cell_type": "markdown",
      "metadata": {
        "id": "4op3Lb4ia13-"
      },
      "source": [
        "### Ejercicio 5\n",
        "Vamos a diseñar una calculadora que se enciende y hasta que no tecleamos 'SAL' no se apaga.\n",
        "\n",
        "Esta calculadora funciona de la siguiente manera:\n",
        "\n",
        "Recogemos los datos A y B\n",
        "Si operación es 1 calcula la raíz cuadrada de la suma de A y B\n",
        "Si operación es 2 calcula A / B. Vigilamos que B no sea 0...\n",
        "Si la operación es 3 calculamos la siguiente fórmula: ( A * B ) / 2.5\n"
      ]
    },
    {
      "cell_type": "code",
      "execution_count": null,
      "metadata": {
        "id": "9_8eM9sVa-MB"
      },
      "outputs": [],
      "source": [
        "import math\n",
        "operacion = input('')\n",
        "A = int(input('A'))\n",
        "B = int(input('B'))\n",
        "\n",
        "while operacion != 'SAL':\n",
        "    if operacion=='1':\n",
        "        print(f'SQRT({int(A)} + {B}) = {math.sqrt(A+B)}')\n",
        "        operacion = input('')\n",
        "        if operacion.upper()=='SAL':\n",
        "            break\n",
        "        A = int(input('A'))\n",
        "        B = int(input('B'))\n",
        "    elif operacion=='2': \n",
        "        if B!=0:\n",
        "            print(f'{A}/{B} = {A/B}')\n",
        "            operacion = input('')\n",
        "            if operacion.upper()=='SAL':\n",
        "                break\n",
        "            A = int(input('A'))\n",
        "            B = int(input('B'))\n",
        "        else:\n",
        "            print('Error, no pude dividirse por 0')\n",
        "            operacion = input('')\n",
        "            if operacion.upper()=='SAL':\n",
        "                break\n",
        "            A = int(input('A'))\n",
        "            B = int(input('B'))\n",
        "    elif operacion=='3':\n",
        "        print(f'({A}*{B})/2.5 = {(A*B)/2.5}')\n",
        "        operacion = input('')\n",
        "        if operacion.upper()=='SAL':\n",
        "            break\n",
        "        A = int(input('A'))\n",
        "        B = int(input('B'))\n",
        "    elif operacion.upper()=='SAL':\n",
        "        print('Saliendo...')\n",
        "        break"
      ]
    },
    {
      "cell_type": "markdown",
      "metadata": {
        "id": "Bu2W99Aka-aV"
      },
      "source": [
        "### Ejercicio 6\n",
        "Haz un motor de videojuegos para dos personajes (A y B). Funciona de la siguiente manera:\n",
        "\n",
        "Empieza el combate y se decide aleatoriamente quien empieza.\n",
        "Si ataca A restará su ataqueA a defensaB.\n",
        "Cambio de turno. Le toca a B. Realiza el ataque.\n",
        "Así hasta que alguno sea derrotado. (Recordar que cada personaje tiene un conteo de puntos de vida)\n"
      ]
    },
    {
      "cell_type": "code",
      "execution_count": 6,
      "metadata": {
        "id": "H9dHLo2XbLTi"
      },
      "outputs": [
        {
          "name": "stdout",
          "output_type": "stream",
          "text": [
            "Jugador A ataca al jugador B\n",
            "Jugador A hace 4 de daño\n",
            "Jugador B tiene 96 puntos de vida\n",
            "-------------------------------\n",
            "Jugador B ataca al jugador A\n",
            "Jugador B hace 12 de daño\n",
            "Jugador A tiene 88 puntos de vida\n",
            "-------------------------------\n",
            "Jugador A ataca al jugador B\n",
            "Jugador A hace 4 de daño\n",
            "Jugador B tiene 92 puntos de vida\n",
            "-------------------------------\n",
            "Jugador B ataca al jugador A\n",
            "Jugador B hace 19 de daño\n",
            "Jugador A tiene 69 puntos de vida\n",
            "-------------------------------\n",
            "Jugador A ataca al jugador B\n",
            "Jugador A hace 4 de daño\n",
            "Jugador B tiene 88 puntos de vida\n",
            "-------------------------------\n",
            "Jugador B ataca al jugador A\n",
            "Jugador B hace 15 de daño\n",
            "Jugador A tiene 54 puntos de vida\n",
            "-------------------------------\n",
            "Jugador A ataca al jugador B\n",
            "Jugador A hace 20 de daño\n",
            "Jugador B tiene 68 puntos de vida\n",
            "-------------------------------\n",
            "Jugador B ataca al jugador A\n",
            "Jugador B hace 19 de daño\n",
            "Jugador A tiene 35 puntos de vida\n",
            "-------------------------------\n",
            "Jugador A ataca al jugador B\n",
            "Jugador A hace 2 de daño\n",
            "Jugador B tiene 66 puntos de vida\n",
            "-------------------------------\n",
            "Jugador B ataca al jugador A\n",
            "Jugador B hace 4 de daño\n",
            "Jugador A tiene 31 puntos de vida\n",
            "-------------------------------\n",
            "Jugador A ataca al jugador B\n",
            "Jugador A hace 1 de daño\n",
            "Jugador B tiene 65 puntos de vida\n",
            "-------------------------------\n",
            "Jugador B ataca al jugador A\n",
            "Jugador B hace 8 de daño\n",
            "Jugador A tiene 23 puntos de vida\n",
            "-------------------------------\n",
            "Jugador A ataca al jugador B\n",
            "Jugador A hace 18 de daño\n",
            "Jugador B tiene 47 puntos de vida\n",
            "-------------------------------\n",
            "Jugador B ataca al jugador A\n",
            "Jugador B hace 8 de daño\n",
            "Jugador A tiene 15 puntos de vida\n",
            "-------------------------------\n",
            "Jugador A ataca al jugador B\n",
            "Jugador A hace 20 de daño\n",
            "Jugador B tiene 27 puntos de vida\n",
            "-------------------------------\n",
            "Jugador B ataca al jugador A\n",
            "Jugador B hace 20 de daño\n",
            "Jugador B gana\n"
          ]
        }
      ],
      "source": [
        "import random\n",
        "PersonajeA = 100\n",
        "PersonajeB = 100\n",
        "turno = random.randint(0,2)\n",
        "\n",
        "while not PersonajeA<=0 or PersonajeB<=0:\n",
        "    if turno==0:\n",
        "        ataque_a = random.randint(1,20)\n",
        "        PersonajeB -= ataque_a\n",
        "        print(f'Jugador A ataca al jugador B')\n",
        "        print(f'Jugador A hace {ataque_a} de daño')\n",
        "        if PersonajeB<=0:\n",
        "            PersonajeB=0\n",
        "            print('Jugador A gana')\n",
        "            break\n",
        "        else: \n",
        "            print(f'Jugador B tiene {PersonajeB} puntos de vida')\n",
        "            print('-------------------------------')\n",
        "            turno = (turno + 1) % 2\n",
        "    elif turno==1:\n",
        "        ataque_b = random.randint(1,20)\n",
        "        PersonajeA -= ataque_b\n",
        "        print(f'Jugador B ataca al jugador A')\n",
        "        print(f'Jugador B hace {ataque_b} de daño')\n",
        "        if PersonajeA<=0:\n",
        "            PersonajeA=0\n",
        "            print('Jugador B gana')\n",
        "            break\n",
        "        else: \n",
        "            print(f'Jugador A tiene {PersonajeA} puntos de vida')\n",
        "            print('-------------------------------')\n",
        "            turno = (turno + 1) % 2"
      ]
    },
    {
      "cell_type": "markdown",
      "metadata": {
        "id": "KI8FS2pfbLj-"
      },
      "source": [
        "## **Listas en Python**\n",
        "### ¿Qué es una Lista?\n",
        "Una lista en Python es una colección ordenada de valores de datos a la que se puede acceder utilizando índices numéricos. Este tipo de datos son versátiles y pueden contener cualquier combinación de datos, como cadenas, flotantes, enteros ¡e incluso otras listas! Nos permiten organizar nuestros datos de forma útil, permitiéndonos acceder fácilmente a los elementos de uno en uno o por trozos. Además, pueden utilizarse dentro de funciones para crear programas más potentes. Dominar las listas es clave para un correcto desarrollo de aplicaciones.\n",
        "\n",
        "En general, una lista es una colección de elementos que forman un grupo unido. En detalle, las listas tienen las siguientes características:\n",
        "\n",
        "* Las listas en Python una lista se inicializa así: miLista = [valor1, valor2, ... , valorn]\n",
        "* Una lista en programación es modificable y puede cambiar a lo largo del tiempo\n",
        "* El primer elemento empieza en la posición 0. Para el primer valor se consulta así: miLista[0]\n",
        "* Funciones Básicas de Listas en Python: métodos disponibles\n",
        "###Listas Anidadas en Python\n",
        "Existe la posibilidad de colocar una lista dentro de otra lista, de hecho, se parece a una matriz. Fíjate, crearemos un elemento de lista y después colocaremos otra lista para consultar sobre ella:\n",
        "\n",
        "\n",
        "```python\n",
        "lista = [ 1, 2, [3, 4] ]\n",
        "print( lista[-1][0] )\n",
        "```\n",
        "### Tupla vs Listas en Python y Programación\n",
        "En programación muy habitualmente necesimatos de un número de variables de elementos que queremos agrupar para resolver un problema o transformar los datos. La diferencia de las listas y las tuplas principalmente se basan en la capacidad de modificación de alguno de los elementos de la colección.\n",
        "\n",
        "En primer lugar, el orden de los elementos almacenados en una lista puede modificarse, lo que no ocurre con las tuplas. En segundo lugar, mientras que las tuplas son inmutables y, por tanto, sólo pueden almacenar conjuntos estáticos de datos, las listas son dinámicas y pueden contener múltiples tipos de objetos, como números, cadenas e incluso otras colecciones como diccionarios.\n",
        "\n",
        "¿Cuando utilizar las Listas en Python?\n",
        "* Si buscas almacenar datos en tu programa donde los valores se modifican.\n",
        "* Si eliminas o añadirás alguno de los elementos.\n",
        "¿Cuando cuando utilizar Tuplas en Python?\n",
        "* Cuando los elementos de la colección son fijos y no pueden cambiar para resolver el reto en tu programa. A esta propiedad se le llama inmutabilidad.\n",
        "* Cuando buscas proteger los elementos y categorías si son muy relevantes dentro de tu aplicación\n",
        "\n",
        "No olvides ver el libro de la bibliografia de la materia para aprender mas sobre funciones de listas para poder continuar aprendiendo como manipularlas, y dicho sea de paso, será necesario contar con el libro desde este punto para realizar los ejercicios.\n"
      ]
    },
    {
      "cell_type": "markdown",
      "metadata": {
        "id": "ohbuIRyMcqcJ"
      },
      "source": [
        "### Ejercicio 1\n",
        "Realiza el Ejercicio 10 de los bucles (sistema de turnos de un videojuego). Utiliza ese mismo código y define los ataque y defensa de los personajes dentro de una lista, por personaje.\n"
      ]
    },
    {
      "cell_type": "code",
      "execution_count": 8,
      "metadata": {
        "id": "M2AmTV5XcwRO"
      },
      "outputs": [
        {
          "name": "stdout",
          "output_type": "stream",
          "text": [
            "Jugador B ataca al jugador A\n",
            "Jugador B hace 19 de daño\n",
            "Jugador A tiene 80 puntos de vida\n",
            "-------------------------------\n",
            "Jugador A ataca al jugador B\n",
            "Jugador A hace 10 de daño\n",
            "Jugador B tiene 91 puntos de vida\n",
            "-------------------------------\n",
            "Jugador B ataca al jugador A\n",
            "Jugador B hace 16 de daño\n",
            "Jugador A tiene 61 puntos de vida\n",
            "-------------------------------\n",
            "Jugador A ataca al jugador B\n",
            "Jugador A hace 4 de daño\n",
            "Jugador B tiene 81 puntos de vida\n",
            "-------------------------------\n",
            "Jugador B ataca al jugador A\n",
            "Jugador B hace 11 de daño\n",
            "Jugador A tiene 45 puntos de vida\n",
            "-------------------------------\n",
            "Jugador A ataca al jugador B\n",
            "Jugador A hace 15 de daño\n",
            "Jugador B tiene 77 puntos de vida\n",
            "-------------------------------\n",
            "Jugador B ataca al jugador A\n",
            "Jugador B hace 11 de daño\n",
            "Jugador A tiene 34 puntos de vida\n",
            "-------------------------------\n",
            "Jugador A ataca al jugador B\n",
            "Jugador A hace 1 de daño\n",
            "Jugador B tiene 62 puntos de vida\n",
            "-------------------------------\n",
            "Jugador B ataca al jugador A\n",
            "Jugador B hace 17 de daño\n",
            "Jugador A tiene 23 puntos de vida\n",
            "-------------------------------\n",
            "Jugador A ataca al jugador B\n",
            "Jugador A hace 17 de daño\n",
            "Jugador B tiene 61 puntos de vida\n",
            "-------------------------------\n",
            "Jugador B ataca al jugador A\n",
            "Jugador B hace 4 de daño\n",
            "Jugador A tiene 6 puntos de vida\n",
            "-------------------------------\n",
            "Jugador A ataca al jugador B\n",
            "Jugador A hace 1 de daño\n",
            "Jugador B tiene 44 puntos de vida\n",
            "-------------------------------\n",
            "Jugador B ataca al jugador A\n",
            "Jugador B hace 15 de daño\n",
            "Jugador A tiene 2 puntos de vida\n",
            "-------------------------------\n",
            "Jugador A ataca al jugador B\n",
            "Jugador A hace 5 de daño\n",
            "Jugador B tiene 43 puntos de vida\n",
            "-------------------------------\n",
            "Jugador B ataca al jugador A\n",
            "Jugador B hace 20 de daño\n",
            "Jugador B gana\n"
          ]
        }
      ],
      "source": [
        "import random\n",
        "PersonajeA = [100, random.randint(1,20)]\n",
        "PersonajeB = [100, random.randint(1,20)]\n",
        "turno = random.randint(0,2)\n",
        "\n",
        "while not PersonajeA[0]<=0 or PersonajeB[0]<=0:\n",
        "    if turno==0:\n",
        "        PersonajeB[0] -= PersonajeA[1]\n",
        "        PersonajeA[1] = random.randint(1,20)\n",
        "        \n",
        "        print(f'Jugador A ataca al jugador B')\n",
        "        print(f'Jugador A hace {PersonajeA[1]} de daño')\n",
        "        if PersonajeB[0]<=0:\n",
        "            PersonajeB[0]=0\n",
        "            print('Jugador A gana')\n",
        "            break\n",
        "        else: \n",
        "            print(f'Jugador B tiene {PersonajeB[0]} puntos de vida')\n",
        "            print('-------------------------------')\n",
        "            turno = (turno + 1) % 2\n",
        "    elif turno==1:\n",
        "        PersonajeA[0] -= PersonajeB[1]\n",
        "        PersonajeB[1] = random.randint(1,20)\n",
        "        print(f'Jugador B ataca al jugador A')\n",
        "        print(f'Jugador B hace {PersonajeB[1]} de daño')\n",
        "        if PersonajeA[0]<=0:\n",
        "            PersonajeA[0]=0\n",
        "            print('Jugador B gana')\n",
        "            break\n",
        "        else: \n",
        "            print(f'Jugador A tiene {PersonajeA[0]} puntos de vida')\n",
        "            print('-------------------------------')\n",
        "            turno = (turno + 1) % 2"
      ]
    },
    {
      "cell_type": "markdown",
      "metadata": {
        "id": "AifjBiHPcwgT"
      },
      "source": [
        "### Ejercicio 2\n",
        "Pedir la puntuación media de las personas para cada asignatura de un curso a partir de un número de personas. Deberás iniciar los cursos para después añadir el número de alumnos y pedir las puntuaciones media. Ejemplo del programa resultado:\n",
        "\n",
        "Insertar la lista de los nombres de las asignaturas del instituto BigBayData.com\n",
        "\n",
        "El usuario introduce: Python,SQL,Hadoop,Js,Html,Css,Swift\n",
        "\n",
        "Genial. Ahora introduce las puntuaciones uno por uno en Python:\n",
        "\n",
        "Introducimos las puntuaciones de los alumnos por cada alumno para cada curso.\n",
        "\n",
        "Resultado de las evaluaciones este año:\n",
        "\n",
        "[Python, 12 alumnos. Nota media: 7.6, Suspensos: 2]\n",
        "\n",
        "[SQL, 12 alumnos. Nota media: 6.9, Suspensos: 1]"
      ]
    },
    {
      "cell_type": "code",
      "execution_count": null,
      "metadata": {
        "id": "H0scBzrvc2s1"
      },
      "outputs": [],
      "source": [
        "asignaturas = input('Asignaturas')\n",
        "lista_completa = []\n",
        "for i in asignaturas.split(','):\n",
        "    materia = i\n",
        "    alumnos = int(input(f'Cant. alumnos en {materia}'))\n",
        "    nota_media = float(input('Nota media'))\n",
        "    suspensos = int(input('Suspensos'))\n",
        "    lista = [materia, f'{alumnos} alumnos',f'Nota media: {nota_media}',f'Suspensos: {suspensos}']\n",
        "    lista_completa.append(lista)\n",
        "\n",
        "for elemento in lista_completa:\n",
        "    print(elemento)"
      ]
    },
    {
      "cell_type": "markdown",
      "metadata": {
        "id": "h4evQIqRcwzT"
      },
      "source": [
        "### Ejercicio 3\n",
        "Imagina un sistema de nombres donde queremos identificar el nombre más común. Para ello primero pide al usuario que inserte nombres. Utiliza la estructura do-while.\n",
        "\n",
        "Introduce los nombres... (-1 para terminar)\n",
        "\n",
        "carmen,julia,juan,carmen,carmen,julia\n",
        "carmen: 3,julia: 2,juan: 1\n"
      ]
    },
    {
      "cell_type": "code",
      "execution_count": null,
      "metadata": {
        "id": "_ZHoRtY8dEKu"
      },
      "outputs": [],
      "source": [
        "lista_nombres = []\n",
        "nombre = ''\n",
        "while nombre.upper() != 'SAL':\n",
        "    nombre = input('Introduce un nombre. \"SAL\" para terminar')\n",
        "    if nombre.upper() != 'SAL':\n",
        "        lista_nombres.append(nombre.upper())\n",
        "\n",
        "cant_nombres = {}\n",
        "for nombre in lista_nombres:\n",
        "    if nombre in cant_nombres:\n",
        "        cant_nombres[nombre] += 1\n",
        "    else:\n",
        "        cant_nombres[nombre] = 1\n",
        "        \n",
        "print(cant_nombres)"
      ]
    },
    {
      "cell_type": "markdown",
      "metadata": {
        "id": "zATK3b5cdEZk"
      },
      "source": [
        "### Ejercicio 4\n",
        "Utiliza el ejercicio anterior y modifícalo para, una vez se añaden los usuarios, se eliminen los duplicados.\n"
      ]
    },
    {
      "cell_type": "code",
      "execution_count": null,
      "metadata": {
        "id": "sHvDQyj2dHpk"
      },
      "outputs": [],
      "source": [
        "lista_nombres = []\n",
        "nombre = ''\n",
        "while nombre.upper() != 'SAL':\n",
        "    nombre = input('Introduce un nombre. \"SAL\" para terminar')\n",
        "    if nombre.upper() != 'SAL':\n",
        "        lista_nombres.add(nombre.upper())\n",
        "print(lista_nombres)"
      ]
    },
    {
      "cell_type": "markdown",
      "metadata": {
        "id": "6o2YqmI5dH34"
      },
      "source": [
        "### Ejercicio 5\n",
        "Calcular la tabla de multiplicar de los 20 primeros números dado un número. La lista, según su posición, almacenará el resultado de la multiplicación.\n",
        "\n",
        "\n"
      ]
    },
    {
      "cell_type": "code",
      "execution_count": null,
      "metadata": {
        "id": "88qxyi90dPes"
      },
      "outputs": [],
      "source": [
        "num = int(input(''))\n",
        "lista_multiplos = []\n",
        "for i in range(1,21):\n",
        "    lista_multiplos.append(str(num*i))\n",
        "print(', '.join(lista_multiplos))"
      ]
    },
    {
      "cell_type": "markdown",
      "metadata": {
        "id": "zXvt_C_3dPtB"
      },
      "source": [
        "### Ejercicio 6\n",
        "Haz un programa que inicialice una lista con los primeros 10 números primos. Después, ordenalos de mayor a menor.\n",
        "\n"
      ]
    },
    {
      "cell_type": "code",
      "execution_count": null,
      "metadata": {
        "id": "ntsrfBVidSGF"
      },
      "outputs": [],
      "source": [
        "lista_primos = [2, 3, 5, 7, 11, 13, 17, 19, 23, 29]\n",
        "lista_primos.sort(reverse=True)\n",
        "print(lista_primos)"
      ]
    },
    {
      "cell_type": "markdown",
      "metadata": {
        "id": "dXJgynuNdSaJ"
      },
      "source": [
        "### Ejercicio 7\n",
        "Simula una cesta de la compra. Después, una vez tengas la lista de la compra, elimina el último elemento. Después, invierte los elementos de la lista y muestra qué queda de resultado.\n",
        "\n",
        "Pista: Utiliza la función pop()"
      ]
    },
    {
      "cell_type": "code",
      "execution_count": null,
      "metadata": {
        "id": "aAsU6L20dU5u"
      },
      "outputs": [],
      "source": [
        "lista_compra = []\n",
        "compra = ''\n",
        "while not compra.upper()=='SALIR':\n",
        "    compra = input('Compra. SALIR para terminar el ingreso de datos')\n",
        "    if compra.upper()!='SALIR':\n",
        "        lista_compra.append(compra.upper())\n",
        "    else:\n",
        "        break\n",
        "lista_compra.pop(-1)\n",
        "lista_compra.reverse()\n",
        "print(lista_compra)"
      ]
    },
    {
      "cell_type": "markdown",
      "metadata": {
        "id": "fuD1ZJsidVSt"
      },
      "source": [
        "### Ejercicio 8\n",
        "Añade las estadísticas de los primeros 10 pokemon en nuestra pokedex. Fíjate qué estadísticas quieres para todos los pokemon. Aquí algunas sugerencias: nombre, ataque, hp, defensa, velocidad, at_Esp, def_Esp\n",
        "\n",
        "Después, utiliza la lista como una pokedex para consultarlo."
      ]
    },
    {
      "cell_type": "code",
      "execution_count": 2,
      "metadata": {
        "id": "mJJ8klWEdYOJ"
      },
      "outputs": [
        {
          "name": "stdout",
          "output_type": "stream",
          "text": [
            "coso. Ataque: 25.  HP: 49. Defensa: 14. Velocidad: 6. Ataque Especial: 22. Defensa Especial: 5\n"
          ]
        }
      ],
      "source": [
        "import random\n",
        "class Estadisticas:\n",
        "    def __init__(self, nombre):\n",
        "        self.nombre = nombre\n",
        "        self.ataque = self.generar_ataque()\n",
        "        self.hp = self.generar_hp()\n",
        "        self.defensa = self.generar_defensa()\n",
        "        self.velocidad = self.generar_velocidad()\n",
        "        self.at_Esp = self.generar_ataque()\n",
        "        self.def_Esp = self.generar_defensa()\n",
        "    def generar_ataque(self):\n",
        "        return random.randint(1, 30)\n",
        "    def generar_hp(self):\n",
        "        return random.randint(20, 60)\n",
        "    def generar_defensa(self):\n",
        "        return random.randint(1, 15)\n",
        "    def generar_velocidad(self):\n",
        "        return random.randint(5, 20)\n",
        "\n",
        "lista_pokemon = []\n",
        "entrada = input(\"Ingresa el nombre del Pokémon (o escribe 'salir' para terminar): \")\n",
        "\n",
        "while entrada.lower() != 'salir':\n",
        "    nuevo_pokemon = Estadisticas(entrada)\n",
        "    lista_pokemon.append(nuevo_pokemon)\n",
        "    entrada = input(\"Ingresa el nombre del Pokémon (o escribe 'salir' para terminar): \")\n",
        "\n",
        "for i,pokemon in enumerate(lista_pokemon, start=1):\n",
        "    print(f\"{pokemon.nombre}. Ataque: {pokemon.ataque}.  HP: {pokemon.hp}. Defensa: {pokemon.defensa}. Velocidad: {pokemon.velocidad}. Ataque Especial: {pokemon.at_Esp}. Defensa Especial: {pokemon.def_Esp}\")"
      ]
    },
    {
      "cell_type": "markdown",
      "metadata": {
        "id": "H-Pwtr4ndYce"
      },
      "source": [
        "### Ejercicio 9\n",
        "Imagina construir un sistema de planning de vuelos de un aeropuerto cercano. Crea una planificación donde dentro contiene, por día de la semana, horario, compañia, duracion_estimada, tipo_avion. Utiliza una lista dentro de otra lista.\n",
        "\n",
        "PD: Después de llenar los datos necesitarás ofrecer al usuario ver la información.\n"
      ]
    },
    {
      "cell_type": "code",
      "execution_count": null,
      "metadata": {
        "id": "gDA1toB8dcqr"
      },
      "outputs": [],
      "source": [
        "def mostrar_vuelos_por_dia(planificacion, dia_elegido):\n",
        "    dias_semana = ['Lunes', 'Martes', 'Miércoles', 'Jueves', 'Viernes', 'Sábado', 'Domingo']\n",
        "    indice_dia = dias_semana.index(dia_elegido.capitalize())\n",
        "    vuelos_del_dia = planificacion[indice_dia]\n",
        "    \n",
        "    print(f\"\\nVuelos del {dia_elegido.capitalize()}:\")\n",
        "    for vuelo in vuelos_del_dia:\n",
        "        print(f\"Horario: {vuelo[0]}, Compañía: {vuelo[1]}, Duración Estimada: {vuelo[2]}, Tipo de Avión: {vuelo[3]}\")\n",
        "\n",
        "# Crear planificación de vuelos\n",
        "planificacion_vuelos = [\n",
        "    # Lunes\n",
        "    [(\"08:00\", \"American Airlines\", \"2 horas\", \"Boeing 737\"),\n",
        "     (\"12:00\", \"Delta Airlines\", \"3 horas\", \"Airbus A320\"),\n",
        "     (\"16:00\", \"United Airlines\", \"2.5 horas\", \"Boeing 777\"),],\n",
        "    # Martes\n",
        "    [(\"09:30\", \"JetBlue Airways\", \"2 horas\", \"Airbus A321\"),\n",
        "     (\"13:00\", \"Southwest Airlines\", \"2.5 horas\", \"Boeing 737\"),\n",
        "     (\"17:00\", \"Alaska Airlines\", \"3 horas\", \"Airbus A319\"),],\n",
        "    # Miércoles\n",
        "    [(\"10:00\", \"American Airlines\", \"2 horas\", \"Boeing 737\"),\n",
        "     (\"14:00\", \"Delta Airlines\", \"3 horas\", \"Airbus A320\"),\n",
        "     (\"18:00\", \"United Airlines\", \"2.5 horas\", \"Boeing 777\"),],\n",
        "    # Jueves\n",
        "    [(\"08:30\", \"JetBlue Airways\", \"2 horas\", \"Airbus A321\"),\n",
        "     (\"12:30\", \"Southwest Airlines\", \"2.5 horas\", \"Boeing 737\"),\n",
        "     (\"16:30\", \"Alaska Airlines\", \"3 horas\", \"Airbus A319\"),],\n",
        "    # Viernes\n",
        "    [(\"11:00\", \"American Airlines\", \"2 horas\", \"Boeing 737\"),\n",
        "     (\"15:00\", \"Delta Airlines\", \"3 horas\", \"Airbus A320\"),\n",
        "     (\"19:00\", \"United Airlines\", \"2.5 horas\", \"Boeing 777\"),],\n",
        "    # Sábado\n",
        "    [(\"09:00\", \"JetBlue Airways\", \"2 horas\", \"Airbus A321\"),\n",
        "     (\"13:30\", \"Southwest Airlines\", \"2.5 horas\", \"Boeing 737\"),\n",
        "     (\"17:30\", \"Alaska Airlines\", \"3 horas\", \"Airbus A319\"),],\n",
        "    # Domingo\n",
        "    [(\"10:30\", \"American Airlines\", \"2 horas\", \"Boeing 737\"),\n",
        "     (\"14:30\", \"Delta Airlines\", \"3 horas\", \"Airbus A320\"),\n",
        "     (\"18:30\", \"United Airlines\", \"2.5 horas\", \"Boeing 777\"),]\n",
        "]\n",
        "# Solicitar al usuario que elija un día\n",
        "dia_elegido = input(\"Por favor, ingrese el día de la semana del que desea ver los vuelos: \")\n",
        "\n",
        "# Mostrar la planificación de vuelos para el día elegido\n",
        "mostrar_vuelos_por_dia(planificacion_vuelos, dia_elegido)"
      ]
    },
    {
      "cell_type": "markdown",
      "metadata": {
        "id": "ysUskJRudc6T"
      },
      "source": [
        "### Ejercicio 10\n",
        "Haz un sistema de ordenamiento de ayudas para tu comunidad. La idea es que insertes todos los emails que quieras para, aleatoriamente, ofrecer N ayudas. El objetivo es tener un sistema justo de ayudas para repartir entre la ciudadanía que se postula. Una vez lo tengas, desarrolla un sistema de envío automático por correo."
      ]
    },
    {
      "cell_type": "code",
      "execution_count": 10,
      "metadata": {
        "id": "nP3O5lpidp2a"
      },
      "outputs": [
        {
          "name": "stdout",
          "output_type": "stream",
          "text": [
            "Destinatarios seleccionados para recibir ayuda:\n",
            "correo8@coso.com\n",
            "correo9@coso.com\n",
            "correo2@coso.com\n",
            "correo5@coso.com\n"
          ]
        }
      ],
      "source": [
        "import random\n",
        "\n",
        "def seleccionar_destinatarios(correos, cantidad):\n",
        "    if cantidad >= len(correos):\n",
        "        return correos\n",
        "    else:\n",
        "        return random.sample(correos, cantidad)\n",
        "\n",
        "correos = [\n",
        "    'correo1@coso.com',\n",
        "    'correo2@coso.com',\n",
        "    'correo3@coso.com',\n",
        "    'correo4@coso.com',\n",
        "    'correo5@coso.com',\n",
        "    'correo6@coso.com',\n",
        "    'correo7@coso.com',\n",
        "    'correo8@coso.com',\n",
        "    'correo9@coso.com',\n",
        "    'correo10@coso.com'\n",
        "]\n",
        "\n",
        "cant_ayudas = random.randint(1, len(correos))\n",
        "\n",
        "destinatarios_seleccionados = seleccionar_destinatarios(correos, cant_ayudas)\n",
        "\n",
        "print(\"Destinatarios seleccionados para recibir ayuda:\")\n",
        "for destinatario in destinatarios_seleccionados:\n",
        "    print(destinatario)\n"
      ]
    },
    {
      "cell_type": "markdown",
      "metadata": {
        "id": "Vi4JH_VHdqKt"
      },
      "source": [
        "## FAQs sobre listas\n",
        "**¿Qué son las listas Python?**\n",
        "Son colecciones modificables, muy útiles para agrupar elementos que cambian a lo largo del tiempo.\n",
        "\n",
        "**¿Cómo hacer una lista en Python?**\n",
        "miNuevaLista = [ ‘aaa’, 1, 3.2, False ] #Corchetes\n",
        "\n",
        "**¿Qué es y para qué sirve una lista en Python?**\n",
        "Es como un vagón de trenes para que utilices el tren como almacén de datos en el programa.\n",
        "\n",
        "**¿Cómo crear una lista del 1 al 10 en Python?**\n",
        "x = list(range(0,10))\n",
        "\n",
        "**¿Cómo se crea una lista vacía en Python?**\n",
        "miNuevaListaVacia = [ ] #Corchetes"
      ]
    }
  ],
  "metadata": {
    "colab": {
      "provenance": []
    },
    "kernelspec": {
      "display_name": "Python 3",
      "name": "python3"
    },
    "language_info": {
      "codemirror_mode": {
        "name": "ipython",
        "version": 3
      },
      "file_extension": ".py",
      "mimetype": "text/x-python",
      "name": "python",
      "nbconvert_exporter": "python",
      "pygments_lexer": "ipython3",
      "version": "3.10.12"
    }
  },
  "nbformat": 4,
  "nbformat_minor": 0
}
