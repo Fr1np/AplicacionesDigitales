{
  "cells": [
    {
      "cell_type": "markdown",
      "metadata": {
        "id": "MCS-eOkfH0kw"
      },
      "source": [
        "# Trabajo Practico N° 3 - Librerias en Python\n",
        "El siguiente trabajo esta destinado a practicar con las librerias panda y matplotlib para comenzar nuestro pequeño camino para la ciencia de datos. Tener en cuenta que esto es solo una introduccion, ya que esta seccion de la materia es mas bien una carrera completa para los estudiantes de ingenieria en computacion, informatica o para los distintos niveles de ciencias de la computacion."
      ]
    },
    {
      "cell_type": "markdown",
      "metadata": {
        "id": "FIBwbSlMzTtJ"
      },
      "source": [
        "# Ejercicios con Liberia Panda"
      ]
    },
    {
      "cell_type": "markdown",
      "metadata": {
        "id": "smnH-md4xgqc"
      },
      "source": [
        "# Ejercicio 1\n",
        "Escribir un programa que pregunte al usuario por las ventas de un rango de años y muestre por pantalla una serie con los datos de las ventas indexada por los años, antes y después de aplicarles un descuento del 10%."
      ]
    },
    {
      "cell_type": "code",
      "execution_count": 18,
      "metadata": {
        "id": "L6UIWGEKxg4z"
      },
      "outputs": [
        {
          "data": {
            "text/html": [
              "<div>\n",
              "<style scoped>\n",
              "    .dataframe tbody tr th:only-of-type {\n",
              "        vertical-align: middle;\n",
              "    }\n",
              "\n",
              "    .dataframe tbody tr th {\n",
              "        vertical-align: top;\n",
              "    }\n",
              "\n",
              "    .dataframe thead th {\n",
              "        text-align: right;\n",
              "    }\n",
              "</style>\n",
              "<table border=\"1\" class=\"dataframe\">\n",
              "  <thead>\n",
              "    <tr style=\"text-align: right;\">\n",
              "      <th></th>\n",
              "      <th>Ventas pre 10%</th>\n",
              "      <th>Ventas post 10%</th>\n",
              "    </tr>\n",
              "    <tr>\n",
              "      <th>Año</th>\n",
              "      <th></th>\n",
              "      <th></th>\n",
              "    </tr>\n",
              "  </thead>\n",
              "  <tbody>\n",
              "    <tr>\n",
              "      <th>2020</th>\n",
              "      <td>100</td>\n",
              "      <td>90.0</td>\n",
              "    </tr>\n",
              "    <tr>\n",
              "      <th>2021</th>\n",
              "      <td>549</td>\n",
              "      <td>494.1</td>\n",
              "    </tr>\n",
              "    <tr>\n",
              "      <th>2022</th>\n",
              "      <td>564</td>\n",
              "      <td>507.6</td>\n",
              "    </tr>\n",
              "    <tr>\n",
              "      <th>2023</th>\n",
              "      <td>546</td>\n",
              "      <td>491.4</td>\n",
              "    </tr>\n",
              "  </tbody>\n",
              "</table>\n",
              "</div>"
            ],
            "text/plain": [
              "      Ventas pre 10%  Ventas post 10%\n",
              "Año                                  \n",
              "2020             100             90.0\n",
              "2021             549            494.1\n",
              "2022             564            507.6\n",
              "2023             546            491.4"
            ]
          },
          "execution_count": 18,
          "metadata": {},
          "output_type": "execute_result"
        }
      ],
      "source": [
        "import pandas as pd\n",
        "añoActual, añoInicio, ventas, ventas_descuento= 2024, int(input('Año de inicio:')), [], []\n",
        "rango_años = [añoInicio+i for i in range(añoActual-añoInicio)]\n",
        "for i in range(añoActual-añoInicio):\n",
        "    ventas.append(int(input(f'Ventas en {añoInicio+i}')))\n",
        "for i in range(len(ventas)):\n",
        "    ventas_descuento.append(ventas[i] - ventas[i]*.1)\n",
        "\n",
        "data = pd.DataFrame({'Año':rango_años, 'Ventas pre 10%':ventas, 'Ventas post 10%':ventas_descuento}).set_index('Año')\n",
        "data"
      ]
    },
    {
      "cell_type": "markdown",
      "metadata": {
        "id": "sEYC9x55xosJ"
      },
      "source": [
        "\n",
        "# Ejercicio 2\n",
        "Escribir una función que reciba un diccionario con las notas de los alumno de un curso y devuelva una serie con la nota mínima, la máxima, media y la desviación típica."
      ]
    },
    {
      "cell_type": "code",
      "execution_count": 14,
      "metadata": {
        "id": "kXJ6DnWQxpCJ"
      },
      "outputs": [
        {
          "name": "stdout",
          "output_type": "stream",
          "text": [
            "0    10.000000\n",
            "1     2.000000\n",
            "2     6.200000\n",
            "3     2.712932\n",
            "dtype: float64\n"
          ]
        }
      ],
      "source": [
        "import pandas as pd\n",
        "import numpy as np\n",
        "\n",
        "notas = {\n",
        "    'alumno1':10,\n",
        "    'alumno2':5,\n",
        "    'alumno3':8,\n",
        "    'alumno4':2,\n",
        "    'alumno5':6\n",
        "}\n",
        "valores = list(notas.values())\n",
        "val = pd.Series([max(valores), min(valores), np.mean(valores), np.std(valores)])\n",
        "\n",
        "print(val)"
      ]
    },
    {
      "cell_type": "markdown",
      "metadata": {
        "id": "oxbzII5ExyYG"
      },
      "source": [
        "# Ejercicio 3\n",
        "\n",
        "Escribir una función que reciba un diccionario con las notas de los alumnos de un curso y devuelva una serie con las notas de los alumnos aprobados ordenadas de mayor a menor."
      ]
    },
    {
      "cell_type": "code",
      "execution_count": 15,
      "metadata": {
        "id": "3Q7BCBtMxy2l"
      },
      "outputs": [
        {
          "data": {
            "text/plain": [
              "0    10\n",
              "1     8\n",
              "2     6\n",
              "3     5\n",
              "4     2\n",
              "dtype: int64"
            ]
          },
          "execution_count": 15,
          "metadata": {},
          "output_type": "execute_result"
        }
      ],
      "source": [
        "import pandas as pd\n",
        "notas = {\n",
        "    'alumno1':10,\n",
        "    'alumno2':5,\n",
        "    'alumno3':8,\n",
        "    'alumno4':2,\n",
        "    'alumno5':6\n",
        "}\n",
        "valores = pd.Series(sorted(list(notas.values()), reverse=True))\n",
        "valores"
      ]
    },
    {
      "cell_type": "markdown",
      "metadata": {
        "id": "ZGlDY2ASx6bV"
      },
      "source": [
        "# Ejercicio 4\n",
        "\n",
        "Escribir programa que genere y muestre por pantalla un DataFrame con los datos de la tabla siguiente:\n",
        "\n",
        "| Mes     | Ventas | Gastos |\n",
        "| ------- | -----: | -----: |\n",
        "| Enero   |  30500 |  22000 |\n",
        "| Febrero |  35600 |  23400 |\n",
        "| Marzo   |  28300 |  18100 |\n",
        "| Abril   |  33900 |  20700 |\n",
        "\n"
      ]
    },
    {
      "cell_type": "code",
      "execution_count": 26,
      "metadata": {
        "id": "0dMDw6n9x7D_"
      },
      "outputs": [
        {
          "data": {
            "text/html": [
              "<div>\n",
              "<style scoped>\n",
              "    .dataframe tbody tr th:only-of-type {\n",
              "        vertical-align: middle;\n",
              "    }\n",
              "\n",
              "    .dataframe tbody tr th {\n",
              "        vertical-align: top;\n",
              "    }\n",
              "\n",
              "    .dataframe thead th {\n",
              "        text-align: right;\n",
              "    }\n",
              "</style>\n",
              "<table border=\"1\" class=\"dataframe\">\n",
              "  <thead>\n",
              "    <tr style=\"text-align: right;\">\n",
              "      <th></th>\n",
              "      <th>Ventas</th>\n",
              "      <th>Gastos</th>\n",
              "    </tr>\n",
              "    <tr>\n",
              "      <th>Mes</th>\n",
              "      <th></th>\n",
              "      <th></th>\n",
              "    </tr>\n",
              "  </thead>\n",
              "  <tbody>\n",
              "    <tr>\n",
              "      <th>Enero</th>\n",
              "      <td>30500</td>\n",
              "      <td>22000</td>\n",
              "    </tr>\n",
              "    <tr>\n",
              "      <th>Febrero</th>\n",
              "      <td>35600</td>\n",
              "      <td>23400</td>\n",
              "    </tr>\n",
              "    <tr>\n",
              "      <th>Marzo</th>\n",
              "      <td>28300</td>\n",
              "      <td>18100</td>\n",
              "    </tr>\n",
              "    <tr>\n",
              "      <th>Abril</th>\n",
              "      <td>33900</td>\n",
              "      <td>20700</td>\n",
              "    </tr>\n",
              "  </tbody>\n",
              "</table>\n",
              "</div>"
            ],
            "text/plain": [
              "         Ventas  Gastos\n",
              "Mes                    \n",
              "Enero     30500   22000\n",
              "Febrero   35600   23400\n",
              "Marzo     28300   18100\n",
              "Abril     33900   20700"
            ]
          },
          "execution_count": 26,
          "metadata": {},
          "output_type": "execute_result"
        }
      ],
      "source": [
        "import pandas as pd\n",
        "\n",
        "df = pd.DataFrame({'Mes':['Enero', 'Febrero', 'Marzo', 'Abril'], 'Ventas':[30500,35600,28300,33900], 'Gastos':[22000,23400,18100,20700]})\n",
        "df.set_index('Mes', inplace=True)\n",
        "df"
      ]
    },
    {
      "cell_type": "markdown",
      "metadata": {
        "id": "HGKJHEhRyELF"
      },
      "source": [
        "# Ejercicio 5\n",
        "\n",
        "Escribir una función que reciba un DataFrame con el formato del ejercicio anterior, una lista de meses, y devuelva el balance (ventas - gastos) total en los meses indicados."
      ]
    },
    {
      "cell_type": "code",
      "execution_count": null,
      "metadata": {
        "id": "BIlzZ8BSyE9I"
      },
      "outputs": [],
      "source": []
    },
    {
      "cell_type": "markdown",
      "metadata": {
        "id": "dIhPJKumyLun"
      },
      "source": [
        "# Ejercicio 6\n",
        "El fichero [cotizacion.csv](https://github.com/asalber/aprendeconalf/blob/master/content/es/docencia/python/ejercicios/soluciones/pandas/cotizacion.csv) contiene las cotizaciones de las empresas del IBEX35 con las siguientes columnas: nombre (nombre de la empresa), Final (precio de la acción al cierre de bolsa), Máximo (precio máximo de la acción durante la jornada), Mínimo (precio mínimo de la acción durante la jornada), volumen (Volumen al cierre de bolsa), Efectivo (capitalización al cierre en miles de euros). Construir una función que construya un DataFrame a partir del un fichero con el formato anterior y devuelva otro DataFrame con el mínimo, el máximo y la media de dada columna."
      ]
    },
    {
      "cell_type": "code",
      "execution_count": null,
      "metadata": {
        "id": "KxERluSGyNLc"
      },
      "outputs": [],
      "source": []
    },
    {
      "cell_type": "markdown",
      "metadata": {
        "id": "voM4uE_Gy2OX"
      },
      "source": [
        "# Ejercicio 7\n",
        "\n",
        "El fichero [titanic.csv](https://raw.githubusercontent.com/asalber/asalber.github.io/master/python/ejercicios/soluciones/pandas/titanic.csv) contiene información sobre los pasajeros del Titanic. Escribir un programa con los siguientes requisitos:\n",
        "\n",
        "1. Generar un DataFrame con los datos del fichero.\n",
        "2. Mostrar por pantalla las dimensiones del DataFrame, el número de datos que contiene, los nombres de sus columnas y filas, los tipos de datos de las columnas, las 10 primeras filas y las 10 últimas filas.\n",
        "3. Mostrar por pantalla los datos del pasajero con identificador 148.\n",
        "3. Mostrar por pantalla las filas pares del DataFrame.\n",
        "4. Mostrar por pantalla los nombres de las personas que iban en primera clase ordenadas alfabéticamente.\n",
        "5. Mostrar por pantalla el porcentaje de personas que sobrevivieron y murieron.\n",
        "5. Mostrar por pantalla el porcentaje de personas que sobrevivieron en cada clase.\n",
        "6. Eliminar del DataFrame los pasajeros con edad desconocida.\n",
        "7. Mostrar por pantalla la edad media de las mujeres que viajaban en cada clase.\n",
        "8.  Añadir una nueva columna booleana para ver si el pasajero era menor de edad o no.\n",
        "9.  Mostrar por pantalla el porcentaje de menores y mayores de edad que sobrevivieron en cada clase.\n"
      ]
    },
    {
      "cell_type": "code",
      "execution_count": null,
      "metadata": {
        "id": "NuQLrMsmy202"
      },
      "outputs": [],
      "source": []
    },
    {
      "cell_type": "markdown",
      "metadata": {
        "id": "roM0U4brzAbC"
      },
      "source": [
        "# Ejercicio 8\n",
        "\n",
        "Los ficheros [emisiones-2016.csv](https://raw.githubusercontent.com/asalber/asalber.github.io/master/python/ejercicios/soluciones/pandas/emisiones-2016.csv), [emisiones-2017.csv](https://raw.githubusercontent.com/asalber/asalber.github.io/master/python/ejercicios/soluciones/pandas/emisiones-2017.csv), [emisiones-2018.csv](https://raw.githubusercontent.com/asalber/asalber.github.io/master/python/ejercicios/soluciones/pandas/emisiones-2018.csv) y [emisiones-2019.csv](https://raw.githubusercontent.com/asalber/asalber.github.io/master/python/ejercicios/soluciones/pandas/emisiones-2019.csv), contienen datos sobre las emisiones contaminates en la ciudad de Madrid en los años 2016, 2017, 2018 y 2019 respectivamente. Escribir un programa con los siguientes requisitos:\n",
        "\n",
        "1. Generar un DataFrame con los datos de los cuatro ficheros.\n",
        "2. Filtrar las columnas del DataFrame para quedarse con las columnas ESTACION, MAGNITUD, AÑO, MES y las correspondientes a los días D01, D02, etc.\n",
        "3. Reestructurar el DataFrame para que los valores de los contaminantes de las columnas de los días aparezcan en una única columna.\n",
        "4. Añadir una columna con la fecha a partir de la concatenación del año, el mes y el día (usar el módulo `datetime`).\n",
        "5. Eliminar las filas con fechas no válidas (utilizar la función `isnat` del módulo `numpy`) y ordenar el DataFrame por estaciones contaminantes y fecha.\n",
        "6. Mostrar por pantalla las estaciones y los contaminantes disponibles en el DataFrame.\n",
        "7. Crear una función que reciba una estación, un contaminante y un rango de fechas y devuelva una serie con las emisiones del contaminante dado en la estación y rango de fechas dado.\n",
        "8. Mostrar un resumen descriptivo (mínimo, máximo, media, etc.) para cada contaminante.\n",
        "9. Mostrar un resumen descriptivo para cada contaminante por distritos.\n",
        "10. Crear una función que reciba una estación y un contaminante y devuelva un resumen descriptivo de las emisiones del contaminante indicado en la estación indicada.\n",
        "11. Crear una función que devuelva las emisiones medias mensuales de un contaminante y un año dados para todos las estaciones.\n",
        "12. Crear un función que reciba una estación de medición y devuelva un DataFrame con las medias mensuales de los distintos tipos de contaminantes."
      ]
    },
    {
      "cell_type": "code",
      "execution_count": null,
      "metadata": {
        "id": "8OiPRgaYzA09"
      },
      "outputs": [],
      "source": []
    },
    {
      "cell_type": "markdown",
      "metadata": {
        "id": "77psVvDnzNou"
      },
      "source": [
        "# Ejercicios con libreria Matplotlib"
      ]
    },
    {
      "cell_type": "markdown",
      "metadata": {
        "id": "f-4Eq-2aIUP0"
      },
      "source": [
        "##Ejercicio 1\n",
        "\n",
        "Escribir un programa que pregunte al usuario por las ventas de un rango de años y muestre por pantalla un diagrama de líneas con la evolución de las ventas."
      ]
    },
    {
      "cell_type": "code",
      "execution_count": null,
      "metadata": {
        "id": "xXrpcUaIITv5"
      },
      "outputs": [],
      "source": []
    },
    {
      "cell_type": "markdown",
      "metadata": {
        "id": "Yno5KF2AIVvK"
      },
      "source": [
        "##Ejercicio 2\n",
        "\n",
        "Escribir una función que reciba una diccionario con las notas de las asignaturas de un curso y una cadena con el nombre de un color y devuelva un diagrama de barras de las notas en el color dado."
      ]
    },
    {
      "cell_type": "code",
      "execution_count": null,
      "metadata": {
        "id": "dc5SEuPa4TM3"
      },
      "outputs": [],
      "source": []
    },
    {
      "cell_type": "markdown",
      "metadata": {
        "id": "BQCG7MB0IWzJ"
      },
      "source": [
        "##Ejercicio 3\n",
        "\n",
        "Escribir una función que reciba una serie de Pandas con las notas de los alumnos de un curso y devuelva un diagrama de cajas con las notas. El diagrama debe tener el título “Distribución de notas”."
      ]
    },
    {
      "cell_type": "code",
      "execution_count": null,
      "metadata": {
        "id": "nzSxQZHcH0C0"
      },
      "outputs": [],
      "source": []
    },
    {
      "cell_type": "markdown",
      "metadata": {
        "id": "pkOYRt3-zbUJ"
      },
      "source": [
        "# Ejercicio 4\n",
        "\n",
        "Escribir una función que reciba una serie de Pandas con el número de ventas de un producto durante los meses de un trimestre y un título y cree un diagrama de sectores con las ventas en formato png con el titulo dado. El diagrama debe guardarse en un fichero con formato png y el título dado."
      ]
    },
    {
      "cell_type": "code",
      "execution_count": null,
      "metadata": {
        "id": "w_wKGXPazb4f"
      },
      "outputs": [],
      "source": []
    },
    {
      "cell_type": "markdown",
      "metadata": {
        "id": "WovOXL4VzcMc"
      },
      "source": [
        "# Ejercicio 5\n",
        "\n",
        "Escribir una función que reciba una serie de Pandas con el número de ventas de un producto por años y una cadena con el tipo de gráfico a generar (lineas, barras, sectores, areas) y devuelva un diagrama del tipo indicado con la evolución de las ventas por años y con el título \"Evolución del número de ventas\"."
      ]
    },
    {
      "cell_type": "code",
      "execution_count": null,
      "metadata": {
        "id": "_twYPLghzc0a"
      },
      "outputs": [],
      "source": []
    },
    {
      "cell_type": "markdown",
      "metadata": {
        "id": "61eUIdvdzdQo"
      },
      "source": [
        "# Ejercicio 6\n",
        "\n",
        "Escribir una función que reciba un dataframe de Pandas con los ingresos y gastos de una empresa por meses y devuelva un diagrama de líneas con dos líneas, una para los ingresos y otra para los gastos. El diagrama debe tener una leyenda identificando la línea de los ingresos y la de los gastos, un título con el nombre \"Evolución de ingresos y gastos\" y el eje y debe empezar en 0."
      ]
    },
    {
      "cell_type": "code",
      "execution_count": null,
      "metadata": {
        "id": "Y75N3m1yzd5R"
      },
      "outputs": [],
      "source": []
    },
    {
      "cell_type": "markdown",
      "metadata": {
        "id": "rKIwdVlP0AkN"
      },
      "source": [
        "# Ejercicio 7\n",
        "\n",
        "El fichero [`bancos.csv`](../soluciones/matplotlib/bancos.csv) contiene las cotizaciones de los principales bancos de España con : `Empresa` (nombre de la empresa), `Apertura` (precio de la acción a la apertura de bolsa), `Máximo` (precio máximo de la acción durante la jornada), `Mínimo` (precio mínimo de la acción durante la jornada), `Cierre` (precio de la acción al cierre de bolsa), `Volumen` (volumen al cierre de bolsa). Construir una función reciba el fichero `bancos.csv` y cree un diagrama de líneas con las series temporales de las cotizaciones de cierre de cada banco."
      ]
    },
    {
      "cell_type": "code",
      "execution_count": null,
      "metadata": {
        "id": "utjgoCHo0BCG"
      },
      "outputs": [],
      "source": []
    },
    {
      "cell_type": "markdown",
      "metadata": {
        "id": "4zX_zJik0Beu"
      },
      "source": [
        "# Ejercicio 8\n",
        "\n",
        "El fichero [titanic.csv](../soluciones/matplotlib/titanic.csv) contiene información sobre los pasajeros del Titanic. Crear un dataframe con Pandas y a partir de él generar los siguientes diagramas.\n",
        "\n",
        "1. Diagrama de sectores con los fallecidos y supervivientes.\n",
        "2. Histograma con las edades.\n",
        "3. Diagrama de barras con el número de personas en cada clase.\n",
        "3. Diagrama de barras con el número de personas fallecidas y supervivientes en cada clase.\n",
        "4. Diagrama de barras con el número de personas fallecidas y supervivientes acumuladas en cada clase."
      ]
    },
    {
      "cell_type": "code",
      "execution_count": null,
      "metadata": {
        "id": "OCo5_Ejv0CJT"
      },
      "outputs": [],
      "source": []
    }
  ],
  "metadata": {
    "colab": {
      "provenance": []
    },
    "kernelspec": {
      "display_name": "Python 3",
      "name": "python3"
    },
    "language_info": {
      "codemirror_mode": {
        "name": "ipython",
        "version": 3
      },
      "file_extension": ".py",
      "mimetype": "text/x-python",
      "name": "python",
      "nbconvert_exporter": "python",
      "pygments_lexer": "ipython3",
      "version": "3.12.2"
    }
  },
  "nbformat": 4,
  "nbformat_minor": 0
}
