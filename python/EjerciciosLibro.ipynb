{
 "cells": [
  {
   "cell_type": "markdown",
   "metadata": {},
   "source": [
    "## Ejercicio 1"
   ]
  },
  {
   "cell_type": "code",
   "execution_count": 1,
   "metadata": {},
   "outputs": [
    {
     "name": "stdout",
     "output_type": "stream",
     "text": [
      "[88 23 39 41] \n",
      "\n",
      " [[76.4 21.7 38.4]\n",
      " [41.2 52.8 68.9]] \n",
      "\n",
      " [[12]\n",
      " [ 4]\n",
      " [ 9]\n",
      " [ 8]] \n",
      "\n",
      "\n"
     ]
    }
   ],
   "source": [
    "import numpy as np\n",
    "\n",
    "array_1 = np.array([88,23,39,41])\n",
    "\n",
    "array_2 = np.array([[76.4,21.7,38.4],\n",
    "                    [41.2,52.8,68.9]])\n",
    "\n",
    "array_3 = np.array([[12],\n",
    "                    [4],\n",
    "                    [9],\n",
    "                    [8]])\n",
    "\n",
    "print(array_1, '\\n\\n', array_2, '\\n\\n', array_3, '\\n\\n')"
   ]
  },
  {
   "cell_type": "markdown",
   "metadata": {},
   "source": [
    "## Ejercicio 2"
   ]
  },
  {
   "cell_type": "code",
   "execution_count": 9,
   "metadata": {},
   "outputs": [
    {
     "data": {
      "text/plain": [
       "(array([[ 0,  0,  0, ...,  0,  0,  0],\n",
       "        [ 0,  1,  0, ...,  0,  0,  0],\n",
       "        [ 0,  0,  2, ...,  0,  0,  0],\n",
       "        ...,\n",
       "        [ 0,  0,  0, ..., 47,  0,  0],\n",
       "        [ 0,  0,  0, ...,  0, 48,  0],\n",
       "        [ 0,  0,  0, ...,  0,  0, 49]], dtype=int64),\n",
       " 2,\n",
       " 2500,\n",
       " (50, 50),\n",
       " dtype('int64'))"
      ]
     },
     "execution_count": 9,
     "metadata": {},
     "output_type": "execute_result"
    }
   ],
   "source": [
    "M=np.diag(np.arange(50, dtype='int64'))\n",
    "M,M.ndim,M.size,M.shape,M.dtype"
   ]
  }
 ],
 "metadata": {
  "kernelspec": {
   "display_name": "Python 3",
   "language": "python",
   "name": "python3"
  },
  "language_info": {
   "codemirror_mode": {
    "name": "ipython",
    "version": 3
   },
   "file_extension": ".py",
   "mimetype": "text/x-python",
   "name": "python",
   "nbconvert_exporter": "python",
   "pygments_lexer": "ipython3",
   "version": "3.12.2"
  }
 },
 "nbformat": 4,
 "nbformat_minor": 2
}
